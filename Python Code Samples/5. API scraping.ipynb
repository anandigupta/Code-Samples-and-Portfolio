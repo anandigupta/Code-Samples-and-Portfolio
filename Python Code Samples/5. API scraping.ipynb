{
 "cells": [
  {
   "cell_type": "markdown",
   "id": "a8546246",
   "metadata": {},
   "source": [
    "# Anandi Gupta\n",
    "\n",
    "# Data Science II Problem Set 1"
   ]
  },
  {
   "cell_type": "code",
   "execution_count": 1,
   "id": "81ffc922",
   "metadata": {},
   "outputs": [],
   "source": [
    "from bs4 import BeautifulSoup\n",
    "import requests"
   ]
  },
  {
   "cell_type": "markdown",
   "id": "0813b307",
   "metadata": {},
   "source": [
    "# Part 1\n",
    "\n",
    "## Question 1\n",
    "\n",
    "We can see several different types of tags in the page. 3 examples are below:\n",
    "\n",
    "h1 - this tag is a first-level header tag used for the title\n",
    "\n",
    "p - this tag is for paragraphs, and is used for the body of the page\n",
    "\n",
    "a - this tag is an anchor that links the current HTML file to another file (for example, links to the About Project Gutenberg page)"
   ]
  },
  {
   "cell_type": "markdown",
   "id": "8d30edc4",
   "metadata": {},
   "source": [
    "## Question 2"
   ]
  },
  {
   "cell_type": "code",
   "execution_count": 2,
   "id": "2e5c517d",
   "metadata": {},
   "outputs": [],
   "source": [
    "r = requests.get(\"http://www.gutenberg.org/\")"
   ]
  },
  {
   "cell_type": "code",
   "execution_count": 3,
   "id": "5e2358f5",
   "metadata": {},
   "outputs": [
    {
     "data": {
      "text/plain": [
       "200"
      ]
     },
     "execution_count": 3,
     "metadata": {},
     "output_type": "execute_result"
    }
   ],
   "source": [
    "r.status_code"
   ]
  },
  {
   "cell_type": "markdown",
   "id": "29ad7366",
   "metadata": {},
   "source": [
    "200 represents a successful request"
   ]
  },
  {
   "cell_type": "markdown",
   "id": "9fda3bb8",
   "metadata": {},
   "source": [
    "## Question 3"
   ]
  },
  {
   "cell_type": "code",
   "execution_count": 4,
   "id": "a78ccde6",
   "metadata": {},
   "outputs": [],
   "source": [
    "# 1 URL\n",
    "html = requests.get(\"http://www.gutenberg.org/\").text"
   ]
  },
  {
   "cell_type": "code",
   "execution_count": 5,
   "id": "b5658551",
   "metadata": {},
   "outputs": [],
   "source": [
    "# 2 Soup\n",
    "soup = BeautifulSoup(html, 'lxml')"
   ]
  },
  {
   "cell_type": "code",
   "execution_count": 6,
   "id": "59a9552a",
   "metadata": {},
   "outputs": [
    {
     "data": {
      "text/plain": [
       "<!DOCTYPE html>\n",
       "<html class=\"client-nojs\" dir=\"ltr\" lang=\"en\">\n",
       "<head>\n",
       "<meta charset=\"utf-8\"/>\n",
       "<title>Free eBooks | Project Gutenberg</title>\n",
       "<link href=\"/gutenberg/style.css?v=1.1\" rel=\"stylesheet\"/>\n",
       "<link href=\"/gutenberg/collapsible.css?1.1\" rel=\"stylesheet\"/>\n",
       "<link href=\"/gutenberg/new_nav.css?v=1.321231\" rel=\"stylesheet\"/>\n",
       "<link href=\"/gutenberg/pg-desktop-one.css\" rel=\"stylesheet\"/>\n",
       "<meta content=\"width=device-width, initial-scale=1\" name=\"viewport\"/>\n",
       "<meta content=\"books, ebooks, free, kindle, android, iphone, ipad\" name=\"keywords\"/>\n",
       "<meta content=\"wucOEvSnj5kP3Ts_36OfP64laakK-1mVTg-ptrGC9io\" name=\"google-site-verification\"/>\n",
       "<meta content=\"4WNaCljsE-A82vP_ih2H_UqXZvM\" name=\"alexaVerifyID\"/>\n",
       "<link href=\"https://www.gnu.org/copyleft/fdl.html\" rel=\"copyright\"/>\n",
       "<link href=\"/gutenberg/favicon.ico?v=1.1\" rel=\"shortcut icon\"/>\n",
       "<meta content=\"Project Gutenberg\" property=\"og:title\"/>\n",
       "<meta content=\"website\" property=\"og:type\"/>\n",
       "<meta content=\"https://www.gutenberg.org/\" property=\"og:url\"/>\n",
       "<meta content=\"Project Gutenberg is a library of free eBooks.\" property=\"og:description\"/>\n",
       "<meta content=\"615269807\" property=\"fb:admins\"/>\n",
       "<meta content=\"115319388529183\" property=\"fb:app_id\"/>\n",
       "<meta content=\"Project Gutenberg\" property=\"og:site_name\"/>\n",
       "<meta content=\"https://www.gutenberg.org/gutenberg/pg-logo-144x144.png\" property=\"og:image\"/>\n",
       "</head>\n",
       "<body>\n",
       "<div class=\"container\"><!-- start body --><nav>\n",
       "<!--<div id=\"main_logo\"> -->\n",
       "<a class=\"no-hover\" href=\"/\" id=\"main_logo\">\n",
       "<img alt=\"Project Gutenberg\" draggable=\"false\" src=\"/gutenberg/pg-logo-129x80.png\"/>\n",
       "</a>\n",
       "<!--\t</div>-->\n",
       "<div id=\"menu\">\n",
       "<label for=\"tm\" id=\"toggle-menu\">Menu<span class=\"drop-icon\">▾</span></label>\n",
       "<input id=\"tm\" type=\"checkbox\"/>\n",
       "<ul class=\"main-menu cf\">\n",
       "<li>\n",
       "<a href=\"/about/\">About\n",
       "          <span class=\"drop-icon\">▾</span>\n",
       "</a>\n",
       "<label class=\"drop-icon\" for=\"sm0\" title=\"Toggle Drop-down\">▾</label>\n",
       "<input id=\"sm0\" type=\"checkbox\"/>\n",
       "<ul class=\"sub-menu\">\n",
       "<li><a href=\"/about/\">About Project Gutenberg</a></li>\n",
       "<li><a href=\"/policy/collection_development.html\">Collection Development</a></li>\n",
       "<li><a href=\"/about/contact_information.html\">Contact Us</a></li>\n",
       "<li><a href=\"/about/background/\">History &amp; Philosophy</a></li>\n",
       "<li><a href=\"/policy/permission.html\">Permissions &amp; License</a></li>\n",
       "<li><a href=\"/policy/privacy_policy.html\">Privacy Policy</a></li>\n",
       "<li><a href=\"/policy/terms_of_use.html\">Terms of Use</a></li>\n",
       "</ul>\n",
       "</li>\n",
       "<li>\n",
       "<a href=\"/ebooks/\">Search and Browse\n",
       "      \t  <span class=\"drop-icon\">▾</span>\n",
       "</a>\n",
       "<label class=\"drop-icon\" for=\"sm8\" title=\"Toggle Drop-down\">▾</label>\n",
       "<input id=\"sm8\" type=\"checkbox\"/>\n",
       "<ul class=\"sub-menu\">\n",
       "<li><a href=\"/ebooks/\">Book Search</a></li>\n",
       "<li><a href=\"/ebooks/bookshelf/\">Bookshelves</a></li>\n",
       "<li><a href=\"/browse/scores/top\">Frequently Downloaded</a></li>\n",
       "<li><a href=\"/ebooks/offline_catalogs.html\">Offline Catalogs</a></li>\n",
       "</ul>\n",
       "</li>\n",
       "<li>\n",
       "<a href=\"/help/\">Help\n",
       "          <span class=\"drop-icon\">▾</span>\n",
       "</a>\n",
       "<label class=\"drop-icon\" for=\"sm3\" title=\"Toggle Drop-down\">▾</label>\n",
       "<input id=\"sm3\" type=\"checkbox\"/>\n",
       "<ul class=\"sub-menu\">\n",
       "<li><a href=\"/help/\">All help topics →</a></li>\n",
       "<li><a href=\"/help/copyright.html\">Copyright Procedures</a></li>\n",
       "<li><a href=\"/help/errata.html\">Errata, Fixes and Bug Reports</a></li>\n",
       "<li><a href=\"/help/file_formats.html\">File Formats</a></li>\n",
       "<li><a href=\"/help/faq.html\">Frequently Asked Questions</a></li>\n",
       "<li><a href=\"/policy/\">Policies →</a></li>\n",
       "<li><a href=\"/help/public_domain_ebook_submission.html\">Public Domain eBook Submission</a></li>\n",
       "<li><a href=\"/help/submitting_your_own_work.html\">Submitting Your Own Work</a></li>\n",
       "<li><a href=\"/help/mobile.html\">Tablets, Phones and eReaders</a></li>\n",
       "<li><a href=\"/attic/\">The Attic →</a></li>\n",
       "</ul>\n",
       "</li>\n",
       "<li><a href=\"/donate/\">Donate</a></li>\n",
       "</ul>\n",
       "</div>\n",
       "<div class=\"donate\">\n",
       "<div class=\"searchbox\">\n",
       "<form accept-charset=\"utf-8\" action=\"/ebooks/search/\" class=\"searchbox\" enctype=\"multipart/form-data\" method=\"get\">\n",
       "<input class=\"searchInput\" id=\"menu-book-search\" maxlength=\"80\" name=\"query\" placeholder=\"  Quick search\" size=\"20\" tabindex=\"20\" title=\"Quick search\" type=\"text\" value=\"\"/>\n",
       "<input name=\"submit_search\" style=\"vertical-align:middle;\" type=\"submit\" value=\"Go!\"/>\n",
       "</form>\n",
       "</div>\n",
       "<form action=\"https://www.paypal.com/cgi-bin/webscr\" class=\"donatelink\" method=\"post\" target=\"new\">\n",
       "<p><a href=\"/donate/\">Donation</a></p>\n",
       "<input name=\"cmd\" type=\"hidden\" value=\"_s-xclick\"/>\n",
       "<input name=\"hosted_button_id\" type=\"hidden\" value=\"XKAL6BZL3YPSN\"/>\n",
       "<input alt=\"Donate via PayPal\" class=\"donbtn\" name=\"submit\" src=\"/pics/en_US.gif\" type=\"image\"/>\n",
       "</form>\n",
       "</div>\n",
       "</nav>\n",
       "<div class=\"page_content\"><!-- start content -->\n",
       "<h1 id=\"welcome-to-project-gutenberg\">Welcome to Project Gutenberg</h1>\n",
       "<h2 class=\"subtitle\">Project Gutenberg is a library of over 60,000 free eBooks</h2>\n",
       "<p>Choose among free epub and Kindle eBooks, download them or read them online. You will find the worldâs great literature here, with focus on older works for which U.S. copyright has expired. Thousands of volunteers digitized and diligently proofread the eBooks, for you to enjoy.</p>\n",
       "<!-- Latest Books -->\n",
       "<div class=\"library\" style=\"overflow-x: auto; position: relative;\">\n",
       "<div class=\"box_shadow\" style=\"min-width: 1260px;\">\n",
       "<div class=\"lib latest no-select\">\n",
       "<a authors=\"Jean Aicard\" href=\"/ebooks/67327\" target=\"_top\" title=\"Au bord du DÃ©sert: L'Ã¢me arabe (Ã  Pierre Loti); Impressions; Souvenirs; LÃ©gendes arabes; La pÃ©tition de l'Arabe\">\n",
       "<div class=\"cover_image\">\n",
       "<div class=\"cover_img\">\n",
       "<img alt=\"Au bord du DÃ©sert: L'Ã¢me arabe (Ã  Pierre Loti); Impressions; Souvenirs; LÃ©gendes arabes; La pÃ©tition de l'Arabe, Jean Aicard\" authors=\"Jean Aicard\" draggable=\"false\" src=\"/cache/epub/67327/pg67327.cover.medium.jpg\" title=\"Au bord du DÃ©sert: L'Ã¢me arabe (Ã  Pierre Loti); Impressions; Souvenirs; LÃ©gendes arabes; La pÃ©tition de l'Arabe\"/>\n",
       "</div>\n",
       "<div class=\"cover_title\">\n",
       "<h5>Au bord du DÃ©sert: L'Ã¢me arabe (Ã  Pierre Loti); Impressions; Souvenirs; LÃ©gendes</h5>\n",
       "</div>\n",
       "</div>\n",
       "</a>\n",
       "<a authors=\"Horace Fletcher\" href=\"/ebooks/67326\" target=\"_top\" title=\"The A.B.-Z. of our own nutrition\">\n",
       "<div class=\"cover_image\">\n",
       "<div class=\"cover_img\">\n",
       "<img alt=\"The A.B.-Z. of our own nutrition, Horace Fletcher\" authors=\"Horace Fletcher\" draggable=\"false\" src=\"/cache/epub/67326/pg67326.cover.medium.jpg\" title=\"The A.B.-Z. of our own nutrition\"/>\n",
       "</div>\n",
       "<div class=\"cover_title\">\n",
       "<h5>The A.B.-Z. of our own nutrition by Horace Fletcher</h5>\n",
       "</div>\n",
       "</div>\n",
       "</a>\n",
       "<a authors=\"Winston K. Marks\" href=\"/ebooks/67325\" target=\"_top\" title=\"Kid Stuff\">\n",
       "<div class=\"cover_image\">\n",
       "<div class=\"cover_img\">\n",
       "<img alt=\"Kid Stuff, Winston K. Marks\" authors=\"Winston K. Marks\" draggable=\"false\" src=\"/cache/epub/67325/pg67325.cover.medium.jpg\" title=\"Kid Stuff\"/>\n",
       "</div>\n",
       "<div class=\"cover_title\">\n",
       "<h5>Kid Stuff by Winston K. Marks</h5>\n",
       "</div>\n",
       "</div>\n",
       "</a>\n",
       "<a authors=\"David Mason\" href=\"/ebooks/67324\" target=\"_top\" title=\"Placebo\">\n",
       "<div class=\"cover_image\">\n",
       "<div class=\"cover_img\">\n",
       "<img alt=\"Placebo, David Mason\" authors=\"David Mason\" draggable=\"false\" src=\"/cache/epub/67324/pg67324.cover.medium.jpg\" title=\"Placebo\"/>\n",
       "</div>\n",
       "<div class=\"cover_title\">\n",
       "<h5>Placebo by David Mason</h5>\n",
       "</div>\n",
       "</div>\n",
       "</a>\n",
       "<a authors=\"Randall Garrett\" href=\"/ebooks/67323\" target=\"_top\" title=\"The Best of Fences\">\n",
       "<div class=\"cover_image\">\n",
       "<div class=\"cover_img\">\n",
       "<img alt=\"The Best of Fences, Randall Garrett\" authors=\"Randall Garrett\" draggable=\"false\" src=\"/cache/epub/67323/pg67323.cover.medium.jpg\" title=\"The Best of Fences\"/>\n",
       "</div>\n",
       "<div class=\"cover_title\">\n",
       "<h5>The Best of Fences by Randall Garrett</h5>\n",
       "</div>\n",
       "</div>\n",
       "</a>\n",
       "<a authors=\"Barry Pain\" href=\"/ebooks/67322\" target=\"_top\" title=\"In a Canadian Canoe: The Nine Muses Minus One and Other Stories\">\n",
       "<div class=\"cover_image\">\n",
       "<div class=\"cover_img\">\n",
       "<img alt=\"In a Canadian Canoe: The Nine Muses Minus One and Other Stories, Barry Pain\" authors=\"Barry Pain\" draggable=\"false\" src=\"/cache/epub/67322/pg67322.cover.medium.jpg\" title=\"In a Canadian Canoe: The Nine Muses Minus One and Other Stories\"/>\n",
       "</div>\n",
       "<div class=\"cover_title\">\n",
       "<h5>In a Canadian Canoe: The Nine Muses Minus One and Other Stories by Barry Pain</h5>\n",
       "</div>\n",
       "</div>\n",
       "</a>\n",
       "<a authors=\"Zebina Forbush\" href=\"/ebooks/67321\" target=\"_top\" title=\"The Co-opolitan: A Story of the Co-operative Commonwealth of Idaho\">\n",
       "<div class=\"cover_image\">\n",
       "<div class=\"cover_img\">\n",
       "<img alt=\"The Co-opolitan: A Story of the Co-operative Commonwealth of Idaho, Zebina Forbush\" authors=\"Zebina Forbush\" draggable=\"false\" src=\"/cache/epub/67321/pg67321.cover.medium.jpg\" title=\"The Co-opolitan: A Story of the Co-operative Commonwealth of Idaho\"/>\n",
       "</div>\n",
       "<div class=\"cover_title\">\n",
       "<h5>The Co-opolitan: A Story of the Co-operative Commonwealth of Idaho by Forbush</h5>\n",
       "</div>\n",
       "</div>\n",
       "</a>\n",
       "<a authors=\"Saint Possidius Calamensis, bishop of Hippo Saint Augustin, L. G. Moreau\" href=\"/ebooks/67320\" target=\"_top\" title=\"Les confessions de saint Augustin, Ã©vÃªque d'Hippone: prÃ©cÃ©dÃ©es de sa vie par S. Possidius, Ã©vÃªque de Calame... ; traduction nouvelle par L. Moreau\">\n",
       "<div class=\"cover_image\">\n",
       "<div class=\"cover_img\">\n",
       "<img alt=\"Les confessions de saint Augustin, Ã©vÃªque d'Hippone: prÃ©cÃ©dÃ©es de sa vie par S. Possidius, Ã©vÃªque de Calame... ; traduction nouvelle par L. Moreau, Saint Possidius Calamensis, bishop of Hippo Saint Augustin, L. G. Moreau\" authors=\"Saint Possidius Calamensis, bishop of Hippo Saint Augustin, L. G. Moreau\" draggable=\"false\" src=\"/cache/epub/67320/pg67320.cover.medium.jpg\" title=\"Les confessions de saint Augustin, Ã©vÃªque d'Hippone: prÃ©cÃ©dÃ©es de sa vie par S. Possidius, Ã©vÃªque de Calame... ; traduction nouvelle par L. Moreau\"/>\n",
       "</div>\n",
       "<div class=\"cover_title\">\n",
       "<h5>Les confessions de saint Augustin, Ã©vÃªque d'Hippone: prÃ©cÃ©dÃ©es de sa vie par S.</h5>\n",
       "</div>\n",
       "</div>\n",
       "</a>\n",
       "<a authors=\"B. M. Bower\" href=\"/ebooks/67319\" target=\"_top\" title=\"The Ghost in the Red Shirt\">\n",
       "<div class=\"cover_image\">\n",
       "<div class=\"cover_img\">\n",
       "<img alt=\"The Ghost in the Red Shirt, B. M. Bower\" authors=\"B. M. Bower\" draggable=\"false\" src=\"/cache/epub/67319/pg67319.cover.medium.jpg\" title=\"The Ghost in the Red Shirt\"/>\n",
       "</div>\n",
       "<div class=\"cover_title\">\n",
       "<h5>The Ghost in the Red Shirt by B. M. Bower</h5>\n",
       "</div>\n",
       "</div>\n",
       "</a>\n",
       "<a authors=\"William Francis Patrick Napier\" href=\"/ebooks/67318\" target=\"_top\" title=\"History of the War in the Peninsula and the South of France from the year 1807 to the year 1814, vol. 1 of 6\">\n",
       "<div class=\"cover_image\">\n",
       "<div class=\"cover_img\">\n",
       "<img alt=\"History of the War in the Peninsula and the South of France from the year 1807 to the year 1814, vol. 1 of 6, William Francis Patrick Napier\" authors=\"William Francis Patrick Napier\" draggable=\"false\" src=\"/cache/epub/67318/pg67318.cover.medium.jpg\" title=\"History of the War in the Peninsula and the South of France from the year 1807 to the year 1814, vol. 1 of 6\"/>\n",
       "</div>\n",
       "<div class=\"cover_title\">\n",
       "<h5>History of the War in the Peninsula and the South of France from the year 1807</h5>\n",
       "</div>\n",
       "</div>\n",
       "</a>\n",
       "</div>\n",
       "<p><i>Some of our latest eBooks</i> <a href=\"/browse/recent/last1\">Click Here for more latest books!</a></p>\n",
       "</div>\n",
       "</div>\n",
       "<!-- ending latest books -->\n",
       "<p><strong>50 years of eBooks 1971-2021.</strong> The <a href=\"/ebooks/1\">first eBook</a> for reading enjoyment and unlimited free redistribution was created on July 4, 1971 by founder Michael S. Hart. <a href=\"/about/background/50years.html\">Read more about this lasting innovation</a>. Project Gutenberg is grateful to all volunteers who helped to reach this milestone anniversary. Project Gutenberg offers a vibrant and growing collection of the worldâs great literature. Read, enjoy, and share!</p>\n",
       "<p><strong>No fee or registration!</strong> Everything from Project Gutenberg is gratis, libre, and completely without cost to readers. If you find Project Gutenberg useful, please consider a small donation to help Project Gutenberg digitize more books, maintain its online presence, and improve Project Gutenberg programs and offerings. Other ways to help include digitizing, proofreading and formatting, or reporting errors.</p>\n",
       "<p><strong>No special apps needed!</strong> Project Gutenberg eBooks require no special apps to read, just the regular Web browsers or eBook readers that are included with computers and mobile devices. There have been reports of sites that charge fees for custom apps, or for the same eBooks that are freely available from Project Gutenberg. Some of the apps might have worthwhile features, but none are required to enjoy Project Gutenberg eBooks.</p>\n",
       "<h2 id=\"find-free-ebooks\">Find Free eBooks</h2>\n",
       "<ul>\n",
       "<li><a href=\"/ebooks/\">Search and browse</a>. By author, title, subject, language, type, popularity, and more.</li>\n",
       "<li><a href=\"/ebooks/bookshelf/\">Bookshelves</a> of related eBooks.</li>\n",
       "<li><a href=\"/browse/scores/top\">Frequently downloaded</a>: Top 100, or ranked <a href=\"/ebooks/search/?sort_order=downloads\">by popularity</a>.</li>\n",
       "<li><a href=\"/ebooks/offline_catalogs.html\">Offline catalogs</a>: handy eBook listings and metadata to consult offline.</li>\n",
       "<li><a href=\"/ebooks/search/?query=&amp;submit_search=Search&amp;sort_order=release_date\">Recently added</a>. The latest new and updated eBooks.</li>\n",
       "<li>Visit <a href=\"http://self.gutenberg.org\">self.gutenberg.org</a> for free eBooks by contemporary authors.</li>\n",
       "</ul>\n",
       "<h2 id=\"get-help\">Get Help</h2>\n",
       "<div class=\"box_shadow\">\n",
       "<ul>\n",
       "<li><a href=\"/help/faq.html\">Frequently Asked Questions</a> about Project Gutenberg.</li>\n",
       "<li><a href=\"/help/\">Help, How-To and FAQs</a>: In depth information about many topics.</li>\n",
       "<li><a href=\"/help/mobile.html\">Tablets, phones and eReaders How-To</a>: Using tablets, Kindle, Nook, cell phone, and other mobile devices and readers.</li>\n",
       "</ul>\n",
       "</div>\n",
       "<h2 id=\"how-to-help\">How to Help</h2>\n",
       "<ul>\n",
       "<li><a href=\"https://www.pgdp.net\">Distributed Proofreaders</a> welcomes new volunteers. This is the main source of new Project Gutenberg eBooks. Getting started is easy, and just a page a day will help!</li>\n",
       "<li><a href=\"/help/errata.html\">Fix and improve</a> Project Gutenberg by reporting errors, bugs, typos, and suggesting changes.</li>\n",
       "<li>Record audiobooks with our friends at <a href=\"https://librivox.org\">LibriVox</a>.</li>\n",
       "</ul>\n",
       "<h2 id=\"special-areas\">Special Areas</h2>\n",
       "<ul>\n",
       "<li><a href=\"/about/\">About Project Gutenberg</a>.</li>\n",
       "<li><a href=\"/donate/\">Donating to Project Gutenberg</a>.</li>\n",
       "<li><a href=\"/ebooks/feeds.html\">Feeds</a> of new eBooks.</li>\n",
       "<li><a href=\"/policy/linking.html\">Linking to Project Gutenberg</a> and <a href=\"/policy/robot_access.html\">roboting or crawling</a> the site.</li>\n",
       "<li><a href=\"/about/partners_affiliates.html\">Partners and affiliates</a>.</li>\n",
       "<li><a href=\"/policy/permission.html\">Permissions, copyright, licensing, and trademark information</a>.</li>\n",
       "<li>What does <a href=\"/about/background/free_ebook.html\">free eBook</a> (No Cost or Freedom?) mean?</li>\n",
       "</ul>\n",
       "<h2 id=\"terms-of-use\">Terms of Use</h2>\n",
       "<div class=\"box_shadow\">\n",
       "<p>Project Gutenberg eBooks may be freely used in the United States because most are not protected by U.S. copyright law. They may not be free of copyright in other countries. Readers outside of the United States must check the copyright terms of their countries before accessing, downloading or redistributing eBooks. We also have a number of copyrighted titles, for which the copyright holder has given permission for unlimited non-commercial worldwide use.</p>\n",
       "<p>The Project Gutenberg website is for human users only. Use of automated tools to access the website may trigger a block of your access. This site utilizes cookies, captchas and related technologies to help assure the site is maximally available for human users. See full terms of use <a href=\"/policy/terms_of_use.html\">here</a>.</p>\n",
       "</div>\n",
       "<h2 id=\"social-media\">Social Media</h2>\n",
       "<ul class=\"icon-list\">\n",
       "<li><a href=\"https://www.facebook.com/project.gutenberg\">\n",
       "<img alt=\"Facebook Icon\" src=\"/gutenberg/f_icon.png\"/>\n",
       "</a></li>\n",
       "<li><a href=\"https://twitter.com/gutenberg_org\">\n",
       "<img alt=\"Twitter Icon\" src=\"/gutenberg/t_icon.png\"/>\n",
       "</a></li>\n",
       "<li>News feeds of new eBooks</li>\n",
       "<li><a href=\"https://www.facebook.com/gutenberg.new\">\n",
       "<img alt=\"Facebook News Feed Icon\" src=\"/gutenberg/f_news_icon.png\"/>\n",
       "</a></li>\n",
       "<li><a href=\"https://twitter.com/gutenberg_new\">\n",
       "<img alt=\"Twitter News Feed Icon\" src=\"/gutenberg/t_news_icon.png\"/>\n",
       "</a></li>\n",
       "</ul>\n",
       "<!-- ## Contact Info\n",
       "\n",
       "- [Contact Information](/about/contact_information.html): How to get in touch.\n",
       "- [Mailing lists](https://lists.pglaf.org/): Subscribe to the monthly newsletter. -->\n",
       "</div><!--content ending-->\n",
       "</div><!-- body ending -->\n",
       "<div class=\"footer\"><!-- start footer --> <ul>\n",
       "<li>\n",
       "<a href=\"/policy/privacy_policy.html\" title=\"Privacy Policy\">Privacy policy</a>\n",
       "</li>\n",
       "<li>\n",
       "<a href=\"/about/\" title=\"About Project Gutenberg\">About Project Gutenberg</a>\n",
       "</li>\n",
       "<li>\n",
       "<a href=\"/policy/terms_of_use.html\" title=\"Terms of Use\">Terms of Use</a>\n",
       "</li>\n",
       "<li>\n",
       "<a href=\"/about/contact_information.html\" title=\"Contact Information\">Contact Information</a>\n",
       "</li>\n",
       "<li><a href=\"/help/\" title=\"Get Help\">Get Help</a></li>\n",
       "</ul>\n",
       "<a href=\"https://www.ibiblio.org/\" title=\"Project Gutenberg is hosted by ibiblio\">\n",
       "<img alt=\"iBiblio\" src=\"/gutenberg/ibiblio-logo.png\"/>\n",
       "</a>\n",
       "</div><!-- footer ending-->\n",
       "</body>\n",
       "</html>"
      ]
     },
     "execution_count": 6,
     "metadata": {},
     "output_type": "execute_result"
    }
   ],
   "source": [
    "soup"
   ]
  },
  {
   "cell_type": "code",
   "execution_count": 7,
   "id": "8c8ad8a5",
   "metadata": {},
   "outputs": [
    {
     "name": "stdout",
     "output_type": "stream",
     "text": [
      "[<h2 class=\"subtitle\">Project Gutenberg is a library of over 60,000 free eBooks</h2>, <h2 id=\"find-free-ebooks\">Find Free eBooks</h2>, <h2 id=\"get-help\">Get Help</h2>, <h2 id=\"how-to-help\">How to Help</h2>, <h2 id=\"special-areas\">Special Areas</h2>, <h2 id=\"terms-of-use\">Terms of Use</h2>, <h2 id=\"social-media\">Social Media</h2>]\n"
     ]
    }
   ],
   "source": [
    "# Get ALL h2 tags\n",
    "print(soup.find_all(\"h2\"))"
   ]
  },
  {
   "cell_type": "markdown",
   "id": "b434508c",
   "metadata": {},
   "source": [
    "## Question 4"
   ]
  },
  {
   "cell_type": "code",
   "execution_count": 8,
   "id": "1a2512f0",
   "metadata": {
    "scrolled": true
   },
   "outputs": [
    {
     "data": {
      "text/plain": [
       "[<ul>\n",
       " <li><a href=\"/ebooks/\">Search and browse</a>. By author, title, subject, language, type, popularity, and more.</li>\n",
       " <li><a href=\"/ebooks/bookshelf/\">Bookshelves</a> of related eBooks.</li>\n",
       " <li><a href=\"/browse/scores/top\">Frequently downloaded</a>: Top 100, or ranked <a href=\"/ebooks/search/?sort_order=downloads\">by popularity</a>.</li>\n",
       " <li><a href=\"/ebooks/offline_catalogs.html\">Offline catalogs</a>: handy eBook listings and metadata to consult offline.</li>\n",
       " <li><a href=\"/ebooks/search/?query=&amp;submit_search=Search&amp;sort_order=release_date\">Recently added</a>. The latest new and updated eBooks.</li>\n",
       " <li>Visit <a href=\"http://self.gutenberg.org\">self.gutenberg.org</a> for free eBooks by contemporary authors.</li>\n",
       " </ul>,\n",
       " <ul>\n",
       " <li><a href=\"/help/faq.html\">Frequently Asked Questions</a> about Project Gutenberg.</li>\n",
       " <li><a href=\"/help/\">Help, How-To and FAQs</a>: In depth information about many topics.</li>\n",
       " <li><a href=\"/help/mobile.html\">Tablets, phones and eReaders How-To</a>: Using tablets, Kindle, Nook, cell phone, and other mobile devices and readers.</li>\n",
       " </ul>,\n",
       " <ul>\n",
       " <li><a href=\"https://www.pgdp.net\">Distributed Proofreaders</a> welcomes new volunteers. This is the main source of new Project Gutenberg eBooks. Getting started is easy, and just a page a day will help!</li>\n",
       " <li><a href=\"/help/errata.html\">Fix and improve</a> Project Gutenberg by reporting errors, bugs, typos, and suggesting changes.</li>\n",
       " <li>Record audiobooks with our friends at <a href=\"https://librivox.org\">LibriVox</a>.</li>\n",
       " </ul>,\n",
       " <ul>\n",
       " <li><a href=\"/about/\">About Project Gutenberg</a>.</li>\n",
       " <li><a href=\"/donate/\">Donating to Project Gutenberg</a>.</li>\n",
       " <li><a href=\"/ebooks/feeds.html\">Feeds</a> of new eBooks.</li>\n",
       " <li><a href=\"/policy/linking.html\">Linking to Project Gutenberg</a> and <a href=\"/policy/robot_access.html\">roboting or crawling</a> the site.</li>\n",
       " <li><a href=\"/about/partners_affiliates.html\">Partners and affiliates</a>.</li>\n",
       " <li><a href=\"/policy/permission.html\">Permissions, copyright, licensing, and trademark information</a>.</li>\n",
       " <li>What does <a href=\"/about/background/free_ebook.html\">free eBook</a> (No Cost or Freedom?) mean?</li>\n",
       " </ul>]"
      ]
     },
     "execution_count": 8,
     "metadata": {},
     "output_type": "execute_result"
    }
   ],
   "source": [
    "# Get ALL list elements text\n",
    "\n",
    "lists = soup.find(\"div\", {\"class\":\"page_content\"}).find_all(\"ul\", {\"class\":\"\"})\n",
    "\n",
    "lists"
   ]
  },
  {
   "cell_type": "code",
   "execution_count": 9,
   "id": "257c0649",
   "metadata": {},
   "outputs": [
    {
     "name": "stdout",
     "output_type": "stream",
     "text": [
      "\n",
      "Search and browse. By author, title, subject, language, type, popularity, and more.\n",
      "Bookshelves of related eBooks.\n",
      "Frequently downloaded: Top 100, or ranked by popularity.\n",
      "Offline catalogs: handy eBook listings and metadata to consult offline.\n",
      "Recently added. The latest new and updated eBooks.\n",
      "Visit self.gutenberg.org for free eBooks by contemporary authors.\n",
      "\n",
      "\n",
      "Frequently Asked Questions about Project Gutenberg.\n",
      "Help, How-To and FAQs: In depth information about many topics.\n",
      "Tablets, phones and eReaders How-To: Using tablets, Kindle, Nook, cell phone, and other mobile devices and readers.\n",
      "\n",
      "\n",
      "Distributed Proofreaders welcomes new volunteers. This is the main source of new Project Gutenberg eBooks. Getting started is easy, and just a page a day will help!\n",
      "Fix and improve Project Gutenberg by reporting errors, bugs, typos, and suggesting changes.\n",
      "Record audiobooks with our friends at LibriVox.\n",
      "\n",
      "\n",
      "About Project Gutenberg.\n",
      "Donating to Project Gutenberg.\n",
      "Feeds of new eBooks.\n",
      "Linking to Project Gutenberg and roboting or crawling the site.\n",
      "Partners and affiliates.\n",
      "Permissions, copyright, licensing, and trademark information.\n",
      "What does free eBook (No Cost or Freedom?) mean?\n",
      "\n"
     ]
    }
   ],
   "source": [
    "for each in lists:\n",
    "    print(each.text)"
   ]
  },
  {
   "cell_type": "markdown",
   "id": "f5cbf29f",
   "metadata": {},
   "source": [
    "# Part 2\n",
    "\n",
    "## Question 1"
   ]
  },
  {
   "cell_type": "code",
   "execution_count": 10,
   "id": "994f2ee0",
   "metadata": {},
   "outputs": [],
   "source": [
    "### Set base URL and use requests library to issue get request\n",
    "url = \"https://itunes.apple.com/search?term=coldplay&limit=200&kind=song&attribute=allArtistTerm\"\n",
    "    \n",
    "r = requests.get(url)"
   ]
  },
  {
   "cell_type": "code",
   "execution_count": 11,
   "id": "bb90e6d7",
   "metadata": {},
   "outputs": [
    {
     "data": {
      "text/plain": [
       "<Response [200]>"
      ]
     },
     "execution_count": 11,
     "metadata": {},
     "output_type": "execute_result"
    }
   ],
   "source": [
    "r"
   ]
  },
  {
   "cell_type": "code",
   "execution_count": 12,
   "id": "575c97a7",
   "metadata": {},
   "outputs": [],
   "source": [
    "# 1 Return JSON encoded response (converts JSON to Python dictionary)\n",
    "x = r.json()"
   ]
  },
  {
   "cell_type": "code",
   "execution_count": 13,
   "id": "c9a189e7",
   "metadata": {},
   "outputs": [
    {
     "name": "stdout",
     "output_type": "stream",
     "text": [
      "dict_keys(['resultCount', 'results'])\n"
     ]
    }
   ],
   "source": [
    "print(x.keys())"
   ]
  },
  {
   "cell_type": "code",
   "execution_count": 14,
   "id": "6a5e8e77",
   "metadata": {},
   "outputs": [
    {
     "data": {
      "text/plain": [
       "{'wrapperType': 'track',\n",
       " 'kind': 'song',\n",
       " 'artistId': 471744,\n",
       " 'collectionId': 726372830,\n",
       " 'trackId': 726373202,\n",
       " 'artistName': 'Coldplay & Rihanna',\n",
       " 'collectionName': 'Mylo Xyloto',\n",
       " 'trackName': 'Princess of China',\n",
       " 'collectionCensoredName': 'Mylo Xyloto',\n",
       " 'trackCensoredName': 'Princess of China',\n",
       " 'collectionArtistName': 'Coldplay',\n",
       " 'artistViewUrl': 'https://music.apple.com/us/artist/coldplay/471744?uo=4',\n",
       " 'collectionViewUrl': 'https://music.apple.com/us/album/princess-of-china/726372830?i=726373202&uo=4',\n",
       " 'trackViewUrl': 'https://music.apple.com/us/album/princess-of-china/726372830?i=726373202&uo=4',\n",
       " 'previewUrl': 'https://audio-ssl.itunes.apple.com/itunes-assets/AudioPreview115/v4/f6/41/d2/f641d21c-d4c3-b60f-31e7-8a56fb362d50/mzaf_9275859951308093005.plus.aac.p.m4a',\n",
       " 'artworkUrl30': 'https://is4-ssl.mzstatic.com/image/thumb/Music115/v4/b9/bf/48/b9bf48c1-916c-5ab9-baee-7929a198b9d5/source/30x30bb.jpg',\n",
       " 'artworkUrl60': 'https://is4-ssl.mzstatic.com/image/thumb/Music115/v4/b9/bf/48/b9bf48c1-916c-5ab9-baee-7929a198b9d5/source/60x60bb.jpg',\n",
       " 'artworkUrl100': 'https://is4-ssl.mzstatic.com/image/thumb/Music115/v4/b9/bf/48/b9bf48c1-916c-5ab9-baee-7929a198b9d5/source/100x100bb.jpg',\n",
       " 'collectionPrice': 9.99,\n",
       " 'trackPrice': 1.29,\n",
       " 'releaseDate': '2011-10-19T07:00:00Z',\n",
       " 'collectionExplicitness': 'notExplicit',\n",
       " 'trackExplicitness': 'notExplicit',\n",
       " 'discCount': 1,\n",
       " 'discNumber': 1,\n",
       " 'trackCount': 14,\n",
       " 'trackNumber': 10,\n",
       " 'trackTimeMillis': 239215,\n",
       " 'country': 'USA',\n",
       " 'currency': 'USD',\n",
       " 'primaryGenreName': 'Alternative',\n",
       " 'isStreamable': True}"
      ]
     },
     "execution_count": 14,
     "metadata": {},
     "output_type": "execute_result"
    }
   ],
   "source": [
    "# 2 Return JSON AND\n",
    "#   access data key AND\n",
    "#   value of first object in array\n",
    "r.json()[\"results\"][0]"
   ]
  },
  {
   "cell_type": "code",
   "execution_count": 15,
   "id": "7130fc6f",
   "metadata": {},
   "outputs": [],
   "source": [
    "# 3 Convert to dataframe\n",
    "import pandas as pd\n",
    "df = pd.DataFrame.from_dict(r.json()[\"results\"])"
   ]
  },
  {
   "cell_type": "code",
   "execution_count": 16,
   "id": "b5c59bd2",
   "metadata": {},
   "outputs": [
    {
     "data": {
      "text/html": [
       "<div>\n",
       "<style scoped>\n",
       "    .dataframe tbody tr th:only-of-type {\n",
       "        vertical-align: middle;\n",
       "    }\n",
       "\n",
       "    .dataframe tbody tr th {\n",
       "        vertical-align: top;\n",
       "    }\n",
       "\n",
       "    .dataframe thead th {\n",
       "        text-align: right;\n",
       "    }\n",
       "</style>\n",
       "<table border=\"1\" class=\"dataframe\">\n",
       "  <thead>\n",
       "    <tr style=\"text-align: right;\">\n",
       "      <th></th>\n",
       "      <th>wrapperType</th>\n",
       "      <th>kind</th>\n",
       "      <th>artistId</th>\n",
       "      <th>collectionId</th>\n",
       "      <th>trackId</th>\n",
       "      <th>artistName</th>\n",
       "      <th>collectionName</th>\n",
       "      <th>trackName</th>\n",
       "      <th>collectionCensoredName</th>\n",
       "      <th>trackCensoredName</th>\n",
       "      <th>...</th>\n",
       "      <th>isStreamable</th>\n",
       "      <th>collectionArtistId</th>\n",
       "      <th>collectionArtistViewUrl</th>\n",
       "      <th>contentAdvisoryRating</th>\n",
       "      <th>collectionHdPrice</th>\n",
       "      <th>trackHdPrice</th>\n",
       "      <th>shortDescription</th>\n",
       "      <th>longDescription</th>\n",
       "      <th>trackRentalPrice</th>\n",
       "      <th>trackHdRentalPrice</th>\n",
       "    </tr>\n",
       "  </thead>\n",
       "  <tbody>\n",
       "    <tr>\n",
       "      <th>0</th>\n",
       "      <td>track</td>\n",
       "      <td>song</td>\n",
       "      <td>471744</td>\n",
       "      <td>7.263728e+08</td>\n",
       "      <td>726373202</td>\n",
       "      <td>Coldplay &amp; Rihanna</td>\n",
       "      <td>Mylo Xyloto</td>\n",
       "      <td>Princess of China</td>\n",
       "      <td>Mylo Xyloto</td>\n",
       "      <td>Princess of China</td>\n",
       "      <td>...</td>\n",
       "      <td>True</td>\n",
       "      <td>NaN</td>\n",
       "      <td>NaN</td>\n",
       "      <td>NaN</td>\n",
       "      <td>NaN</td>\n",
       "      <td>NaN</td>\n",
       "      <td>NaN</td>\n",
       "      <td>NaN</td>\n",
       "      <td>NaN</td>\n",
       "      <td>NaN</td>\n",
       "    </tr>\n",
       "    <tr>\n",
       "      <th>1</th>\n",
       "      <td>track</td>\n",
       "      <td>song</td>\n",
       "      <td>580391756</td>\n",
       "      <td>1.207120e+09</td>\n",
       "      <td>1207120448</td>\n",
       "      <td>The Chainsmokers &amp; Coldplay</td>\n",
       "      <td>Memories...Do Not Open</td>\n",
       "      <td>Something Just Like This</td>\n",
       "      <td>Memories...Do Not Open</td>\n",
       "      <td>Something Just Like This</td>\n",
       "      <td>...</td>\n",
       "      <td>True</td>\n",
       "      <td>NaN</td>\n",
       "      <td>NaN</td>\n",
       "      <td>NaN</td>\n",
       "      <td>NaN</td>\n",
       "      <td>NaN</td>\n",
       "      <td>NaN</td>\n",
       "      <td>NaN</td>\n",
       "      <td>NaN</td>\n",
       "      <td>NaN</td>\n",
       "    </tr>\n",
       "    <tr>\n",
       "      <th>2</th>\n",
       "      <td>track</td>\n",
       "      <td>song</td>\n",
       "      <td>471744</td>\n",
       "      <td>7.263728e+08</td>\n",
       "      <td>726373148</td>\n",
       "      <td>Coldplay</td>\n",
       "      <td>Mylo Xyloto</td>\n",
       "      <td>Paradise</td>\n",
       "      <td>Mylo Xyloto</td>\n",
       "      <td>Paradise</td>\n",
       "      <td>...</td>\n",
       "      <td>True</td>\n",
       "      <td>NaN</td>\n",
       "      <td>NaN</td>\n",
       "      <td>NaN</td>\n",
       "      <td>NaN</td>\n",
       "      <td>NaN</td>\n",
       "      <td>NaN</td>\n",
       "      <td>NaN</td>\n",
       "      <td>NaN</td>\n",
       "      <td>NaN</td>\n",
       "    </tr>\n",
       "    <tr>\n",
       "      <th>3</th>\n",
       "      <td>track</td>\n",
       "      <td>song</td>\n",
       "      <td>471744</td>\n",
       "      <td>1.122776e+09</td>\n",
       "      <td>1122776156</td>\n",
       "      <td>Coldplay</td>\n",
       "      <td>A Rush of Blood to the Head</td>\n",
       "      <td>Clocks</td>\n",
       "      <td>A Rush of Blood to the Head</td>\n",
       "      <td>Clocks</td>\n",
       "      <td>...</td>\n",
       "      <td>True</td>\n",
       "      <td>NaN</td>\n",
       "      <td>NaN</td>\n",
       "      <td>NaN</td>\n",
       "      <td>NaN</td>\n",
       "      <td>NaN</td>\n",
       "      <td>NaN</td>\n",
       "      <td>NaN</td>\n",
       "      <td>NaN</td>\n",
       "      <td>NaN</td>\n",
       "    </tr>\n",
       "    <tr>\n",
       "      <th>4</th>\n",
       "      <td>track</td>\n",
       "      <td>song</td>\n",
       "      <td>471744</td>\n",
       "      <td>1.123077e+09</td>\n",
       "      <td>1123076826</td>\n",
       "      <td>Coldplay</td>\n",
       "      <td>X&amp;Y</td>\n",
       "      <td>Fix You</td>\n",
       "      <td>X&amp;Y</td>\n",
       "      <td>Fix You</td>\n",
       "      <td>...</td>\n",
       "      <td>True</td>\n",
       "      <td>NaN</td>\n",
       "      <td>NaN</td>\n",
       "      <td>NaN</td>\n",
       "      <td>NaN</td>\n",
       "      <td>NaN</td>\n",
       "      <td>NaN</td>\n",
       "      <td>NaN</td>\n",
       "      <td>NaN</td>\n",
       "      <td>NaN</td>\n",
       "    </tr>\n",
       "  </tbody>\n",
       "</table>\n",
       "<p>5 rows × 41 columns</p>\n",
       "</div>"
      ],
      "text/plain": [
       "  wrapperType  kind   artistId  collectionId     trackId  \\\n",
       "0       track  song     471744  7.263728e+08   726373202   \n",
       "1       track  song  580391756  1.207120e+09  1207120448   \n",
       "2       track  song     471744  7.263728e+08   726373148   \n",
       "3       track  song     471744  1.122776e+09  1122776156   \n",
       "4       track  song     471744  1.123077e+09  1123076826   \n",
       "\n",
       "                    artistName               collectionName  \\\n",
       "0           Coldplay & Rihanna                  Mylo Xyloto   \n",
       "1  The Chainsmokers & Coldplay       Memories...Do Not Open   \n",
       "2                     Coldplay                  Mylo Xyloto   \n",
       "3                     Coldplay  A Rush of Blood to the Head   \n",
       "4                     Coldplay                          X&Y   \n",
       "\n",
       "                  trackName       collectionCensoredName  \\\n",
       "0         Princess of China                  Mylo Xyloto   \n",
       "1  Something Just Like This       Memories...Do Not Open   \n",
       "2                  Paradise                  Mylo Xyloto   \n",
       "3                    Clocks  A Rush of Blood to the Head   \n",
       "4                   Fix You                          X&Y   \n",
       "\n",
       "          trackCensoredName  ... isStreamable collectionArtistId  \\\n",
       "0         Princess of China  ...         True                NaN   \n",
       "1  Something Just Like This  ...         True                NaN   \n",
       "2                  Paradise  ...         True                NaN   \n",
       "3                    Clocks  ...         True                NaN   \n",
       "4                   Fix You  ...         True                NaN   \n",
       "\n",
       "  collectionArtistViewUrl contentAdvisoryRating collectionHdPrice  \\\n",
       "0                     NaN                   NaN               NaN   \n",
       "1                     NaN                   NaN               NaN   \n",
       "2                     NaN                   NaN               NaN   \n",
       "3                     NaN                   NaN               NaN   \n",
       "4                     NaN                   NaN               NaN   \n",
       "\n",
       "  trackHdPrice shortDescription longDescription  trackRentalPrice  \\\n",
       "0          NaN              NaN             NaN               NaN   \n",
       "1          NaN              NaN             NaN               NaN   \n",
       "2          NaN              NaN             NaN               NaN   \n",
       "3          NaN              NaN             NaN               NaN   \n",
       "4          NaN              NaN             NaN               NaN   \n",
       "\n",
       "   trackHdRentalPrice  \n",
       "0                 NaN  \n",
       "1                 NaN  \n",
       "2                 NaN  \n",
       "3                 NaN  \n",
       "4                 NaN  \n",
       "\n",
       "[5 rows x 41 columns]"
      ]
     },
     "execution_count": 16,
     "metadata": {},
     "output_type": "execute_result"
    }
   ],
   "source": [
    "df.head()"
   ]
  },
  {
   "cell_type": "markdown",
   "id": "c59397ee",
   "metadata": {},
   "source": [
    "## Question 2 - Explore"
   ]
  },
  {
   "cell_type": "code",
   "execution_count": 17,
   "id": "33f849d9",
   "metadata": {},
   "outputs": [
    {
     "data": {
      "text/plain": [
       "numpy.float64"
      ]
     },
     "execution_count": 17,
     "metadata": {},
     "output_type": "execute_result"
    }
   ],
   "source": [
    "type(df['collectionId'][0])"
   ]
  },
  {
   "cell_type": "code",
   "execution_count": 18,
   "id": "8a7685aa",
   "metadata": {},
   "outputs": [],
   "source": [
    "pd.set_option('display.float_format', lambda x: '%.5f' % x)"
   ]
  },
  {
   "cell_type": "code",
   "execution_count": 19,
   "id": "3b78a3ed",
   "metadata": {},
   "outputs": [
    {
     "data": {
      "text/plain": [
       "0    726372830.00000\n",
       "1   1207120422.00000\n",
       "2    726372830.00000\n",
       "3   1122775993.00000\n",
       "4   1123076757.00000\n",
       "Name: collectionId, dtype: float64"
      ]
     },
     "execution_count": 19,
     "metadata": {},
     "output_type": "execute_result"
    }
   ],
   "source": [
    "df['collectionId'].head()"
   ]
  },
  {
   "cell_type": "markdown",
   "id": "ad26d541",
   "metadata": {},
   "source": [
    "a) Collection id is discrete (i.e., no fractional ids), and qualitative (i.e it cannot be measured). It is possible that it is ordinal, as it probably has some sort of inherent ordering (example, the order in which the collections came out in), but we would need more information to know what the ID number represents."
   ]
  },
  {
   "cell_type": "code",
   "execution_count": 20,
   "id": "9de2a37f",
   "metadata": {},
   "outputs": [
    {
     "data": {
      "text/plain": [
       "-1.0"
      ]
     },
     "execution_count": 20,
     "metadata": {},
     "output_type": "execute_result"
    }
   ],
   "source": [
    "df['trackPrice'].min()"
   ]
  },
  {
   "cell_type": "code",
   "execution_count": 21,
   "id": "7b2fc718",
   "metadata": {},
   "outputs": [
    {
     "data": {
      "text/plain": [
       "12.99"
      ]
     },
     "execution_count": 21,
     "metadata": {},
     "output_type": "execute_result"
    }
   ],
   "source": [
    "df['trackPrice'].max()"
   ]
  },
  {
   "cell_type": "code",
   "execution_count": 22,
   "id": "b4dd1b12",
   "metadata": {},
   "outputs": [
    {
     "data": {
      "text/plain": [
       "49    -1.00000\n",
       "54    -1.00000\n",
       "61    -1.00000\n",
       "68    -1.00000\n",
       "74    -1.00000\n",
       "99    -1.00000\n",
       "110   -1.00000\n",
       "177   -1.00000\n",
       "189   -1.00000\n",
       "199   -1.00000\n",
       "Name: trackPrice, dtype: float64"
      ]
     },
     "execution_count": 22,
     "metadata": {},
     "output_type": "execute_result"
    }
   ],
   "source": [
    "df['trackPrice'][df['trackPrice']<0]"
   ]
  },
  {
   "cell_type": "markdown",
   "id": "504c27d5",
   "metadata": {},
   "source": [
    "b) Track price is continuous, and quantitative (can be measured). It is a ratio, because a zero price has a meaning.However, it is not clear why there would be negative prices (of -1.0), but I suspect these may depict missing values."
   ]
  },
  {
   "cell_type": "code",
   "execution_count": 23,
   "id": "db66566a",
   "metadata": {},
   "outputs": [
    {
     "data": {
      "text/plain": [
       "21388"
      ]
     },
     "execution_count": 23,
     "metadata": {},
     "output_type": "execute_result"
    }
   ],
   "source": [
    "df['trackTimeMillis'].min()"
   ]
  },
  {
   "cell_type": "code",
   "execution_count": 24,
   "id": "7630d9ba",
   "metadata": {},
   "outputs": [
    {
     "data": {
      "text/plain": [
       "7204523"
      ]
     },
     "execution_count": 24,
     "metadata": {},
     "output_type": "execute_result"
    }
   ],
   "source": [
    "df['trackTimeMillis'].max()"
   ]
  },
  {
   "cell_type": "markdown",
   "id": "78b48980",
   "metadata": {},
   "source": [
    "c) Track time in milliseconds is continuous, and quantitative (can be measured). It is a ratio, because a zero duration has a meaning."
   ]
  },
  {
   "cell_type": "code",
   "execution_count": 25,
   "id": "5979647a",
   "metadata": {},
   "outputs": [
    {
     "data": {
      "text/plain": [
       "array(['Alternative', 'Dance', 'Soundtrack', 'Pop', 'Música tropical',\n",
       "       'Concert Films', 'Christmas'], dtype=object)"
      ]
     },
     "execution_count": 25,
     "metadata": {},
     "output_type": "execute_result"
    }
   ],
   "source": [
    "df['primaryGenreName'].unique()"
   ]
  },
  {
   "cell_type": "markdown",
   "id": "5965c6e4",
   "metadata": {},
   "source": [
    "d) Primary genre name is discrete and qualitative. It is nominal (i.e represent different categories that cannot be compared numerically)"
   ]
  },
  {
   "cell_type": "code",
   "execution_count": 26,
   "id": "e6b03234",
   "metadata": {},
   "outputs": [
    {
     "data": {
      "text/plain": [
       "array([nan, 'Explicit', 'NR'], dtype=object)"
      ]
     },
     "execution_count": 26,
     "metadata": {},
     "output_type": "execute_result"
    }
   ],
   "source": [
    "df['contentAdvisoryRating'].unique()"
   ]
  },
  {
   "cell_type": "markdown",
   "id": "6a951c5b",
   "metadata": {},
   "source": [
    "e) ContentAdvisoryRating is discrete and qualitative. It is nominal (i.e represent different categories that cannot be compared numerically)."
   ]
  },
  {
   "cell_type": "code",
   "execution_count": 27,
   "id": "4d983551",
   "metadata": {},
   "outputs": [
    {
     "data": {
      "text/plain": [
       "array([True, False, nan], dtype=object)"
      ]
     },
     "execution_count": 27,
     "metadata": {},
     "output_type": "execute_result"
    }
   ],
   "source": [
    "df['isStreamable'].unique()"
   ]
  },
  {
   "cell_type": "markdown",
   "id": "7e0b6248",
   "metadata": {},
   "source": [
    "f) \"isStreamable\" is binary and nominal (i.e represent different categories that cannot be compared numerically)."
   ]
  },
  {
   "cell_type": "markdown",
   "id": "fc09d484",
   "metadata": {},
   "source": [
    "## Question 3\n",
    "\n",
    "If the collection ID numbers are ordinal (for example, lower ID numbers represent collections that came out earlier), then ID number could be used as a proxy for timing of release and useful for prediction (for instance, older collections may have a lower track price as the artist was less well known at the time). \n",
    "\n",
    "Alternately, the collection ID number can be used to group the dataset by collection and predict features such as average track price in a collection."
   ]
  },
  {
   "cell_type": "markdown",
   "id": "a33165d8",
   "metadata": {},
   "source": [
    "## Question 4\n",
    "\n",
    "### Part a - Missing values"
   ]
  },
  {
   "cell_type": "code",
   "execution_count": 28,
   "id": "73142564",
   "metadata": {},
   "outputs": [
    {
     "data": {
      "text/plain": [
       "wrapperType                  0\n",
       "kind                         0\n",
       "artistId                     0\n",
       "collectionId                 3\n",
       "trackId                      0\n",
       "artistName                   0\n",
       "collectionName               3\n",
       "trackName                    0\n",
       "collectionCensoredName       3\n",
       "trackCensoredName            0\n",
       "collectionArtistName       177\n",
       "artistViewUrl                0\n",
       "collectionViewUrl            3\n",
       "trackViewUrl                 0\n",
       "previewUrl                   0\n",
       "artworkUrl30                 0\n",
       "artworkUrl60                 0\n",
       "artworkUrl100                0\n",
       "collectionPrice              1\n",
       "trackPrice                   1\n",
       "releaseDate                  0\n",
       "collectionExplicitness       0\n",
       "trackExplicitness            0\n",
       "discCount                    3\n",
       "discNumber                   3\n",
       "trackCount                   3\n",
       "trackNumber                  3\n",
       "trackTimeMillis              0\n",
       "country                      0\n",
       "currency                     0\n",
       "primaryGenreName             0\n",
       "isStreamable                 3\n",
       "collectionArtistId         186\n",
       "collectionArtistViewUrl    197\n",
       "contentAdvisoryRating      189\n",
       "collectionHdPrice          197\n",
       "trackHdPrice               197\n",
       "shortDescription           197\n",
       "longDescription            197\n",
       "trackRentalPrice           199\n",
       "trackHdRentalPrice         199\n",
       "dtype: int64"
      ]
     },
     "execution_count": 28,
     "metadata": {},
     "output_type": "execute_result"
    }
   ],
   "source": [
    "df.isna().sum()"
   ]
  },
  {
   "cell_type": "markdown",
   "id": "8bb5c078",
   "metadata": {},
   "source": [
    "It appears that the dataset is relatively complete (only 1-3 of 200 observations missing) for most variables except collectionArtistName, collectionArtistId, collectionArtistViewUrl, contentAdvisoryRating, collectionHdPrice,trackHdPrice, shortDescription, longDescription, trackRentalPrice and trackHdRentalPrice, which are more sparsely populated. \n",
    "\n",
    "However, the table above only counts those variables with missing values encoded as null values. There are some variables where missing values may be encoded differently. For example, for track price, I suspect that the missing values are encoded as -1.0 which means that there are 10 values missing for that variable (counted below) as opposed to the 1 shown above. Collection price however does not appear to have a similar issue."
   ]
  },
  {
   "cell_type": "code",
   "execution_count": 29,
   "id": "2973597f",
   "metadata": {},
   "outputs": [
    {
     "data": {
      "text/plain": [
       "10"
      ]
     },
     "execution_count": 29,
     "metadata": {},
     "output_type": "execute_result"
    }
   ],
   "source": [
    "df['trackPrice'][df['trackPrice']<0].count()"
   ]
  },
  {
   "cell_type": "code",
   "execution_count": 30,
   "id": "09158942",
   "metadata": {},
   "outputs": [
    {
     "data": {
      "text/plain": [
       "0"
      ]
     },
     "execution_count": 30,
     "metadata": {},
     "output_type": "execute_result"
    }
   ],
   "source": [
    "df['collectionPrice'][df['collectionPrice']<0].count()"
   ]
  },
  {
   "cell_type": "markdown",
   "id": "174cf663",
   "metadata": {},
   "source": [
    "### Part b - Average track price"
   ]
  },
  {
   "cell_type": "code",
   "execution_count": 31,
   "id": "046f66bf",
   "metadata": {},
   "outputs": [
    {
     "data": {
      "text/plain": [
       "1.3181407035175872"
      ]
     },
     "execution_count": 31,
     "metadata": {},
     "output_type": "execute_result"
    }
   ],
   "source": [
    "#calculate average for all observations\n",
    "\n",
    "df['trackPrice'].mean()"
   ]
  },
  {
   "cell_type": "code",
   "execution_count": 32,
   "id": "0cda480b",
   "metadata": {},
   "outputs": [
    {
     "data": {
      "text/plain": [
       "1.4407936507936505"
      ]
     },
     "execution_count": 32,
     "metadata": {},
     "output_type": "execute_result"
    }
   ],
   "source": [
    "#Exclude those values with -1.0 price (which likely represent missing values) and calculate average price\n",
    "\n",
    "df['trackPrice'][df['trackPrice'] >= 0].mean()"
   ]
  },
  {
   "cell_type": "markdown",
   "id": "08b886cd",
   "metadata": {},
   "source": [
    "### Part c - Display the total number of songs corresponding to each category of artistId.\n",
    "\n",
    "Note, i only see a couple artist ids in my dataset, so i assumed the question refers to the genre categories for the artist. However, I have tabulated both."
   ]
  },
  {
   "cell_type": "code",
   "execution_count": 33,
   "id": "d4ec19a5",
   "metadata": {},
   "outputs": [
    {
     "data": {
      "text/plain": [
       "471744       194\n",
       "580391756      4\n",
       "2959120        1\n",
       "202049676      1\n",
       "Name: artistId, dtype: int64"
      ]
     },
     "execution_count": 33,
     "metadata": {},
     "output_type": "execute_result"
    }
   ],
   "source": [
    "df['artistId'].value_counts()"
   ]
  },
  {
   "cell_type": "code",
   "execution_count": 34,
   "id": "ed4490bc",
   "metadata": {},
   "outputs": [
    {
     "data": {
      "text/plain": [
       "Alternative        167\n",
       "Pop                 18\n",
       "Dance                7\n",
       "Concert Films        3\n",
       "Soundtrack           3\n",
       "Música tropical      1\n",
       "Christmas            1\n",
       "Name: primaryGenreName, dtype: int64"
      ]
     },
     "execution_count": 34,
     "metadata": {},
     "output_type": "execute_result"
    }
   ],
   "source": [
    "df['primaryGenreName'].value_counts()"
   ]
  },
  {
   "cell_type": "markdown",
   "id": "d53daa88",
   "metadata": {},
   "source": [
    "## Question 5"
   ]
  },
  {
   "cell_type": "code",
   "execution_count": 35,
   "id": "3dcc3733",
   "metadata": {},
   "outputs": [
    {
     "data": {
      "text/plain": [
       "(0, 30)"
      ]
     },
     "execution_count": 35,
     "metadata": {},
     "output_type": "execute_result"
    }
   ],
   "source": [
    "def playtime(trackTimeMillis):\n",
    "    \n",
    "    \n",
    "    \"\"\"\n",
    "    Converts milliseconds to tuple with minutes and seconds\n",
    "    \n",
    "    Arguments\n",
    "    ---------\n",
    "    trackTimeMillis: int \n",
    "        An integer for milliseconds to be converted\n",
    "    \n",
    "    return\n",
    "    ------\n",
    "    A tuple with minutes and seconds\n",
    "    \"\"\"\n",
    "    \n",
    "    seconds=int((trackTimeMillis/1000)%60)\n",
    "    minutes=int(trackTimeMillis/(1000*60))\n",
    "    playtime = (minutes, seconds)\n",
    "    return playtime\n",
    "\n",
    "playtime(30000)"
   ]
  },
  {
   "cell_type": "markdown",
   "id": "50f6a027",
   "metadata": {},
   "source": [
    "## Question 6"
   ]
  },
  {
   "cell_type": "code",
   "execution_count": 36,
   "id": "1a1e8095",
   "metadata": {},
   "outputs": [
    {
     "name": "stdout",
     "output_type": "stream",
     "text": [
      "(3, 59)\n",
      "(4, 7)\n",
      "(4, 37)\n",
      "(5, 6)\n",
      "(4, 54)\n"
     ]
    }
   ],
   "source": [
    "for trackTimeMillis in df['trackTimeMillis'].head():\n",
    "    print(playtime(trackTimeMillis))"
   ]
  }
 ],
 "metadata": {
  "kernelspec": {
   "display_name": "Python 3",
   "language": "python",
   "name": "python3"
  },
  "language_info": {
   "codemirror_mode": {
    "name": "ipython",
    "version": 3
   },
   "file_extension": ".py",
   "mimetype": "text/x-python",
   "name": "python",
   "nbconvert_exporter": "python",
   "pygments_lexer": "ipython3",
   "version": "3.8.8"
  }
 },
 "nbformat": 4,
 "nbformat_minor": 5
}
